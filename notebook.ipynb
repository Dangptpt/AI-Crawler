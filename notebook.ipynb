{
 "cells": [
  {
   "cell_type": "code",
   "execution_count": 1,
   "id": "f00173530278b728",
   "metadata": {
    "ExecuteTime": {
     "end_time": "2024-09-23T07:44:56.611151Z",
     "start_time": "2024-09-23T07:44:55.665352Z"
    },
    "collapsed": false
   },
   "outputs": [],
   "source": [
    "from chatGPT.XpathGenerator import XpathGenerator"
   ]
  },
  {
   "cell_type": "code",
   "execution_count": 2,
   "id": "8ef29bbcede26a86",
   "metadata": {
    "ExecuteTime": {
     "end_time": "2024-09-23T07:44:56.635483Z",
     "start_time": "2024-09-23T07:44:56.613194Z"
    },
    "collapsed": false
   },
   "outputs": [],
   "source": [
    "from common.utils import *\n",
    "url = \"https://vneconomy.vn/ngay-19-11-toi-49-6-trieu-co-phieu-tna-se-bi-huy-niem-yet-tren-hose.htm\""
   ]
  },
  {
   "cell_type": "code",
   "execution_count": 3,
   "id": "e91be6b3e890d7cf",
   "metadata": {
    "ExecuteTime": {
     "end_time": "2024-09-23T07:44:57.086473Z",
     "start_time": "2024-09-23T07:44:56.616255Z"
    },
    "collapsed": false
   },
   "outputs": [],
   "source": [
    "generator = XpathGenerator(\n",
    "    url = url,\n",
    "    max_retries=3\n",
    ")"
   ]
  },
  {
   "cell_type": "code",
   "execution_count": 4,
   "id": "533c965cff2add79",
   "metadata": {
    "ExecuteTime": {
     "end_time": "2024-09-23T07:45:38.885239Z",
     "start_time": "2024-09-23T07:44:57.074986Z"
    },
    "collapsed": false
   },
   "outputs": [
    {
     "name": "stdout",
     "output_type": "stream",
     "text": [
      "\n",
      "First extract --------------------------------------------------\n"
     ]
    },
    {
     "name": "stderr",
     "output_type": "stream",
     "text": [
      "e:\\llm-crawler\\common\\utils.py:41: MarkupResemblesLocatorWarning: The input looks more like a filename than markup. You may want to open this file and pass the filehandle into Beautiful Soup.\n",
      "  soup = BeautifulSoup(text, 'html.parser')\n"
     ]
    },
    {
     "name": "stdout",
     "output_type": "stream",
     "text": [
      "First extract done\n",
      "Content dict:\n",
      "{'title': 'Ngày 19/11 tới, 49,6 triệu cổ phiếu TNA sẽ bị huỷ niêm yết trên HOSE', 'published_date': '16:42 13/11/2024', 'author': 'Hà Anh', 'sapo': 'Gần 49,6 triệu cổ phiếu TNA sẽ bị huỷ niêm yết từ ngày 19/11/2024. TNA đã bị đình chỉ giao dịch kể từ ngày 16/09/2024.', 'content': 'Sở Giao dịch Chứng khoán Thành phố Hồ Chí Minh thông bố quyết định về việc hủy niêm yết đối với cổ phiếu của Công ty Cổ phần Thương mại Xuất nhập khẩu Thiên Nam (mã TNA-HOSE).\\nTheo đó, gần 49,6 triệu cổ phiếu TNA sẽ bị huỷ niêm yết từ ngày 19/11/2024. TNA đã bị đình chỉ giao dịch kể từ ngày 16/09/2024.\\nHOSE cho biết, nguyên nhân là công ty này đã vi phạm nghiêm trọng nghĩa vụ công bố thông tin, thuộc trường hợp chứng khoán bị huỷ bỏ niêm yết bắt buộc theo quy định tại điểm o khoản 1 Điều 120 Nghị định 155/2020/NĐ-CP ngày 31/12/2020.\\nTrước đó, vào ngày 06/11, HOSE đã ra thông báo xem xét huỷ niêm yết bắt buộc đối với cổ phiếu TNA của Thiên Nam do TNA đang trong các diện theo dõi vi phạm gồm: đình chỉ giao dịch, bị kiểm soát và bị cảnh báo.\\nTheo HOSE, kể từ thời điểm bị đình chỉ giao dịch đến nay, các vi phạm công bố thông tin của công ty chưa được khắc phục, có khả năng tiếp tục xảy ra và kéo dài, vi phạm nghiêm trọng nghĩa vụ công bố thông tin và ảnh hưởng đến quyền lợi cổ đông.\\nVề kết quả kinh doanh, TNA ghi nhận lợi nhuận sau thuế thu nhập doanh nghiệp hợp nhất quý 3/2024 lỗ 10.157.914.094 đồng, so với quý 3/2023 lãi 2.001.430.456 đồng.\\nNguyên nhân chủ yếu do doanh thu không đạt kế hoạch, lũy kế 9 tháng TNA báo lỗ hơn 36 tỷ đồng do doanh thu thuần giảm gần 82% so với cùng kỳ, còn hơn 718 tỷ đồng.\\nBên cạnh đó, công ty cũng cập nhật tiến độ thu hồi công nợ:\\nCụ thể: trong năm 2023, Công ty CP TM XNK Thiên Nam đã thực hiện nhận chuyển nhượng lại 08 quyền sử dụng đất tại Đà Nằng với tổng giá trị là 29 tỷ đồng và đã thực hiện cấn trừ công nợ trong quý 1/2023 và thực hiện nhận lại cổ phần để cấn trừ công nợ giá trị 24,1 tỷ đồng. Như vậy, trong năm 2023, Thiên Nam đã thực hiện giảm công nợ khó đòi được 53 tỷ đồng.\\nCũng trong quý 3/2024, Công ty tiếp tục thực hiện làm việc sát sao với tinh thần quyết liệt với các bên liên quan nhằm thu hồi 100% công nợ gốc theo hóa đơn và lãi phạt hợp đồng. Công ty ưu tiên phương án khách hàng trả nợ bằng tiền mặt hoặc tài sản có giá trị thanh khoản cao.\\nVề việc cổ phiếu TNA bị đưa vào diện đình chỉ giao dịch và vào diện kiểm soát là do chậm nộp báo cáo tài chính kiểm toán năm 2023 và bán niên năm 2024 quá thời hạn quy định\\nVề tiến độ thực hiện công bố BCTC kiểm toán năm 2023 và bán niên 2024, TNA cho biết vẫn đang làm việc, thống nhất với đơn vị kiểm toán trong thời gian sớm nhất, dự kiến trong quý 1/2025 để thực hiện công bố thông tin BCTC kiểm toán năm 2023 và soát xét bán niên năm 2024 theo quy định.\\nĐược biết vào ngày 9/10, TNA nhận được quyết định của Chi cục thuế Quận 10, TPHCM về việc cưỡng chế thi hành quyết định hành chính về quản lý thuế. Cụ thể, TNA nợ tiền thuế, tiền phạt, tiền chậm nộp thuế quá 90 ngày kể từ ngày hết hạn nộp thuế với tổng số tiền 411,1 triệu đồng. Công ty cho biết đã khắc phục nộp số tiền thuế trong ngày 08/10/2024.'}\n",
      "Xpath dict:\n",
      "{'title_xpath': '/html/body/main/div[1]/article/header/h1', 'published_date_xpath': \"/html/body/main/div[1]/article/header/div[@class='detail__meta']\", 'author_xpath': \"/html/body/main/div[1]/article/header/div[@class='detail__author']/strong\", 'sapo_xpath': \"/html/body/main/div[1]/article/header/h2[@class='detail__summary']\", 'content_xpath': \"/html/body/main/div[1]/article/div[@class='detail__content']\"}\n",
      "\n",
      "Extracting title ==================================================\n",
      "\n",
      "Targeting string: Ngày 19/11 tới, 49,6 triệu cổ phiếu TNA sẽ bị huỷ niêm yết trên HOSE\n",
      "\n",
      "Attempt 1\n",
      "Xpath: /html/body/main/div[1]/article/header/h1\n",
      "Extracting failed for xpath:  /html/body/main/div[1]/article/header/h1\n",
      "Extracted value is empty\n",
      "\n",
      "Attempt 2\n",
      "\n",
      "Extracting Ngày 19/11 tới, 49,6 triệu cổ phiếu TNA sẽ bị huỷ niêm yết trên HOSE...\n",
      "Xpath: /html/body/main/div/article/header/h1\n",
      "\n",
      "Judging --------------------------------------------------\n",
      "Extracted value:\n",
      "Ngày 19/11 tới, 49,6 triệu cổ phiếu TNA sẽ bị huỷ niêm yết trên HOSE\n",
      "Expected value:\n",
      "Ngày 19/11 tới, 49,6 triệu cổ phiếu TNA sẽ bị huỷ niêm yết trên HOSE\n",
      "Thought: The extracted value matches the expected value exactly, with no additional or missing elements. Therefore, it is consistent.\n",
      "Judgement: consistent\n",
      "Consistent xpath: /html/body/main/div/article/header/h1\n",
      "\n",
      "Extracting published_date ==================================================\n",
      "\n",
      "Targeting string: 16:42 13/11/2024\n",
      "\n",
      "Attempt 1\n",
      "Xpath: /html/body/main/div[1]/article/header/div[@class='detail__meta']\n",
      "Extracting failed for xpath:  /html/body/main/div[1]/article/header/div[@class='detail__meta']\n",
      "Extracted value is empty\n",
      "\n",
      "Attempt 2\n",
      "\n",
      "Extracting 16:42 13/11/2024...\n",
      "Xpath: /html/body/main/article/header/div[@class='detail__meta']\n",
      "Extracting failed for xpath:  /html/body/main/article/header/div[@class='detail__meta']\n",
      "Extracted value is empty\n",
      "\n",
      "Attempt 3\n",
      "\n",
      "Extracting 16:42 13/11/2024...\n",
      "Xpath: /html/body/main/article/header/div[@class='detail__meta']\n",
      "Extracting failed for xpath:  /html/body/main/article/header/div[@class='detail__meta']\n",
      "Extracted value is empty\n",
      "\n",
      "Extracting author ==================================================\n",
      "\n",
      "Targeting string: Hà Anh\n",
      "\n",
      "Attempt 1\n",
      "Xpath: /html/body/main/div[1]/article/header/div[@class='detail__author']/strong\n",
      "Extracting failed for xpath:  /html/body/main/div[1]/article/header/div[@class='detail__author']/strong\n",
      "Extracted value is empty\n",
      "\n",
      "Attempt 2\n",
      "\n",
      "Extracting Hà Anh...\n",
      "Xpath: //div[@class='detail__author']/strong\n",
      "\n",
      "Judging --------------------------------------------------\n",
      "Extracted value:\n",
      "Hà Anh \n",
      "Expected value:\n",
      "Hà Anh\n",
      "Thought: The extracted value 'Hà Anh' matches the expected value 'Hà Anh' exactly, with no additional or missing elements. Therefore, it is consistent.\n",
      "Judgement: consistent\n",
      "Consistent xpath: //div[@class='detail__author']/strong\n",
      "\n",
      "Extracting sapo ==================================================\n",
      "\n",
      "Targeting string: Gần 49,6 triệu cổ phiếu TNA sẽ bị huỷ niêm yết từ ngày 19/11/2024. TNA đã bị đình chỉ giao dịch kể từ ngày 16/09/2024.\n",
      "\n",
      "Attempt 1\n",
      "Xpath: /html/body/main/div[1]/article/header/h2[@class='detail__summary']\n",
      "Extracting failed for xpath:  /html/body/main/div[1]/article/header/h2[@class='detail__summary']\n",
      "Extracted value is empty\n",
      "\n",
      "Attempt 2\n",
      "\n",
      "Extracting Gần 49,6 triệu cổ phiếu TNA sẽ bị huỷ niêm yết từ ngày 19/11/2024. TNA đã bị đình chỉ giao dịch kể từ ngày 16/09/2024....\n",
      "Xpath: /html/body/main/div[@class='container-xxl']/article[@class='detail-wrap']/header/h2[@class='detail__summary']\n",
      "\n",
      "Judging --------------------------------------------------\n",
      "Extracted value:\n",
      "Gần 49,6 triệu cổ phiếu TNA sẽ bị huỷ niêm yết từ ngày 19/11/2024. TNA đã bị đình chỉ giao dịch kể từ ngày 16/09/2024.\n",
      "Expected value:\n",
      "Gần 49,6 triệu cổ phiếu TNA sẽ bị huỷ niêm yết từ ngày 19/11/2024. TNA đã bị đình chỉ giao dịch kể từ ngày 16/09/2024.\n",
      "Thought: The extracted value matches the expected value exactly, with no additional or missing elements. Therefore, it is consistent.\n",
      "Judgement: consistent\n",
      "Consistent xpath: /html/body/main/div[@class='container-xxl']/article[@class='detail-wrap']/header/h2[@class='detail__summary']\n",
      "\n",
      "Extracting content ==================================================\n",
      "\n",
      "Targeting string: Sở Giao dịch Chứng khoán Thành phố Hồ Chí Minh thông bố quyết định về việc hủy niêm yết đối với cổ phiếu của Công ty Cổ phần Thương mại Xuất nhập khẩu Thiên Nam (mã TNA-HOSE).\n",
      "Theo đó, gần 49,6 triệu cổ phiếu TNA sẽ bị huỷ niêm yết từ ngày 19/11/2024. TNA đã bị đình chỉ giao dịch kể từ ngày 16/09/2024.\n",
      "HOSE cho biết, nguyên nhân là công ty này đã vi phạm nghiêm trọng nghĩa vụ công bố thông tin, thuộc trường hợp chứng khoán bị huỷ bỏ niêm yết bắt buộc theo quy định tại điểm o khoản 1 Điều 120 Nghị định 155/2020/NĐ-CP ngày 31/12/2020.\n",
      "Trước đó, vào ngày 06/11, HOSE đã ra thông báo xem xét huỷ niêm yết bắt buộc đối với cổ phiếu TNA của Thiên Nam do TNA đang trong các diện theo dõi vi phạm gồm: đình chỉ giao dịch, bị kiểm soát và bị cảnh báo.\n",
      "Theo HOSE, kể từ thời điểm bị đình chỉ giao dịch đến nay, các vi phạm công bố thông tin của công ty chưa được khắc phục, có khả năng tiếp tục xảy ra và kéo dài, vi phạm nghiêm trọng nghĩa vụ công bố thông tin và ảnh hưởng đến quyền lợi cổ đông.\n",
      "Về kết quả kinh doanh, TNA ghi nhận lợi nhuận sau thuế thu nhập doanh nghiệp hợp nhất quý 3/2024 lỗ 10.157.914.094 đồng, so với quý 3/2023 lãi 2.001.430.456 đồng.\n",
      "Nguyên nhân chủ yếu do doanh thu không đạt kế hoạch, lũy kế 9 tháng TNA báo lỗ hơn 36 tỷ đồng do doanh thu thuần giảm gần 82% so với cùng kỳ, còn hơn 718 tỷ đồng.\n",
      "Bên cạnh đó, công ty cũng cập nhật tiến độ thu hồi công nợ:\n",
      "Cụ thể: trong năm 2023, Công ty CP TM XNK Thiên Nam đã thực hiện nhận chuyển nhượng lại 08 quyền sử dụng đất tại Đà Nằng với tổng giá trị là 29 tỷ đồng và đã thực hiện cấn trừ công nợ trong quý 1/2023 và thực hiện nhận lại cổ phần để cấn trừ công nợ giá trị 24,1 tỷ đồng. Như vậy, trong năm 2023, Thiên Nam đã thực hiện giảm công nợ khó đòi được 53 tỷ đồng.\n",
      "Cũng trong quý 3/2024, Công ty tiếp tục thực hiện làm việc sát sao với tinh thần quyết liệt với các bên liên quan nhằm thu hồi 100% công nợ gốc theo hóa đơn và lãi phạt hợp đồng. Công ty ưu tiên phương án khách hàng trả nợ bằng tiền mặt hoặc tài sản có giá trị thanh khoản cao.\n",
      "Về việc cổ phiếu TNA bị đưa vào diện đình chỉ giao dịch và vào diện kiểm soát là do chậm nộp báo cáo tài chính kiểm toán năm 2023 và bán niên năm 2024 quá thời hạn quy định\n",
      "Về tiến độ thực hiện công bố BCTC kiểm toán năm 2023 và bán niên 2024, TNA cho biết vẫn đang làm việc, thống nhất với đơn vị kiểm toán trong thời gian sớm nhất, dự kiến trong quý 1/2025 để thực hiện công bố thông tin BCTC kiểm toán năm 2023 và soát xét bán niên năm 2024 theo quy định.\n",
      "Được biết vào ngày 9/10, TNA nhận được quyết định của Chi cục thuế Quận 10, TPHCM về việc cưỡng chế thi hành quyết định hành chính về quản lý thuế. Cụ thể, TNA nợ tiền thuế, tiền phạt, tiền chậm nộp thuế quá 90 ngày kể từ ngày hết hạn nộp thuế với tổng số tiền 411,1 triệu đồng. Công ty cho biết đã khắc phục nộp số tiền thuế trong ngày 08/10/2024.\n",
      "\n",
      "Attempt 1\n",
      "Xpath: /html/body/main/div[1]/article/div[@class='detail__content']\n",
      "Extracting failed for xpath:  /html/body/main/div[1]/article/div[@class='detail__content']\n",
      "Extracted value is empty\n",
      "\n",
      "Attempt 2\n",
      "\n",
      "Extracting Sở Giao dịch Chứng khoán Thành phố Hồ Chí Minh thông bố quyết định về việc hủy niêm yết đối với cổ phiếu của Công ty Cổ phần Thương mại Xuất nhập kh...\n",
      "Xpath: /html/body/main/div/article/div[@class='detail__content']/p[1]\n",
      "\n",
      "Judging --------------------------------------------------\n",
      "Extracted value:\n",
      "Sở Giao dịch Chứng khoán Thành phố Hồ Chí Minh thông bố quyết định về việc hủy niêm yết đối với cổ phiếu của Công ty Cổ phần Thương mại Xuất nhập khẩu Thiên Nam (mã TNA-HOSE).\n",
      "Expected value:\n",
      "Sở Giao dịch Chứng khoán Thành phố Hồ Chí Minh thông bố quyết định về việc hủy niêm yết đối với cổ phiếu của Công ty Cổ phần Thương mại Xuất nhập khẩu Thiên Nam (mã TNA-HOSE).\n",
      "Theo đó, gần 49,6 triệu cổ phiếu TNA sẽ bị huỷ niêm yết từ ngày 19/11/2024. TNA đã bị đình chỉ giao dịch kể từ ngày 16/09/2024.\n",
      "HOSE cho biết, nguyên nhân là công ty này đã vi phạm nghiêm trọng nghĩa vụ công bố thông tin, thuộc trường hợp chứng khoán bị huỷ bỏ niêm yết bắt buộc theo quy định tại điểm o khoản 1 Điều 120 Nghị định 155/2020/NĐ-CP ngày 31/12/2020.\n",
      "Trước đó, vào ngày 06/11, HOSE đã ra thông báo xem xét huỷ niêm yết bắt buộc đối với cổ phiếu TNA của Thiên Nam do TNA đang trong các diện theo dõi vi phạm gồm: đình chỉ giao dịch, bị kiểm soát và bị cảnh báo.\n",
      "Theo HOSE, kể từ thời điểm bị đình chỉ giao dịch đến nay, các vi phạm công bố thông tin của công ty chưa được khắc phục, có khả năng tiếp tục xảy ra và kéo dài, vi phạm nghiêm trọng nghĩa vụ công bố thông tin và ảnh hưởng đến quyền lợi cổ đông.\n",
      "Về kết quả kinh doanh, TNA ghi nhận lợi nhuận sau thuế thu nhập doanh nghiệp hợp nhất quý 3/2024 lỗ 10.157.914.094 đồng, so với quý 3/2023 lãi 2.001.430.456 đồng.\n",
      "Nguyên nhân chủ yếu do doanh thu không đạt kế hoạch, lũy kế 9 tháng TNA báo lỗ hơn 36 tỷ đồng do doanh thu thuần giảm gần 82% so với cùng kỳ, còn hơn 718 tỷ đồng.\n",
      "Bên cạnh đó, công ty cũng cập nhật tiến độ thu hồi công nợ:\n",
      "Cụ thể: trong năm 2023, Công ty CP TM XNK Thiên Nam đã thực hiện nhận chuyển nhượng lại 08 quyền sử dụng đất tại Đà Nằng với tổng giá trị là 29 tỷ đồng và đã thực hiện cấn trừ công nợ trong quý 1/2023 và thực hiện nhận lại cổ phần để cấn trừ công nợ giá trị 24,1 tỷ đồng. Như vậy, trong năm 2023, Thiên Nam đã thực hiện giảm công nợ khó đòi được 53 tỷ đồng.\n",
      "Cũng trong quý 3/2024, Công ty tiếp tục thực hiện làm việc sát sao với tinh thần quyết liệt với các bên liên quan nhằm thu hồi 100% công nợ gốc theo hóa đơn và lãi phạt hợp đồng. Công ty ưu tiên phương án khách hàng trả nợ bằng tiền mặt hoặc tài sản có giá trị thanh khoản cao.\n",
      "Về việc cổ phiếu TNA bị đưa vào diện đình chỉ giao dịch và vào diện kiểm soát là do chậm nộp báo cáo tài chính kiểm toán năm 2023 và bán niên năm 2024 quá thời hạn quy định\n",
      "Về tiến độ thực hiện công bố BCTC kiểm toán năm 2023 và bán niên 2024, TNA cho biết vẫn đang làm việc, thống nhất với đơn vị kiểm toán trong thời gian sớm nhất, dự kiến trong quý 1/2025 để thực hiện công bố thông tin BCTC kiểm toán năm 2023 và soát xét bán niên năm 2024 theo quy định.\n",
      "Được biết vào ngày 9/10, TNA nhận được quyết định của Chi cục thuế Quận 10, TPHCM về việc cưỡng chế thi hành quyết định hành chính về quản lý thuế. Cụ thể, TNA nợ tiền thuế, tiền phạt, tiền chậm nộp thuế quá 90 ngày kể từ ngày hết hạn nộp thuế với tổng số tiền 411,1 triệu đồng. Công ty cho biết đã khắc phục nộp số tiền thuế trong ngày 08/10/2024.\n",
      "Thought: The extracted value contains the initial part of the expected value, but it lacks the additional details regarding the stock delisting, the financial results, and the company's actions related to debt recovery. Therefore, it does not provide enough information to be considered consistent.\n",
      "Judgement: insufficient\n",
      "\n",
      "Attempt 3\n",
      "\n",
      "Extracting Sở Giao dịch Chứng khoán Thành phố Hồ Chí Minh thông bố quyết định về việc hủy niêm yết đối với cổ phiếu của Công ty Cổ phần Thương mại Xuất nhập kh...\n",
      "Xpath: /p[1]\n",
      "Extracting failed for xpath:  /p[1]\n",
      "Extracted value is empty\n"
     ]
    }
   ],
   "source": [
    "content_dict, xpath_dict = generator.generate()"
   ]
  },
  {
   "cell_type": "code",
   "execution_count": 5,
   "id": "4ddd288c860a9df0",
   "metadata": {
    "ExecuteTime": {
     "end_time": "2024-09-20T09:59:32.870207Z",
     "start_time": "2024-09-20T09:59:32.559791Z"
    },
    "collapsed": false
   },
   "outputs": [
    {
     "ename": "IndexError",
     "evalue": "list index out of range",
     "output_type": "error",
     "traceback": [
      "\u001b[1;31m---------------------------------------------------------------------------\u001b[0m",
      "\u001b[1;31mIndexError\u001b[0m                                Traceback (most recent call last)",
      "Cell \u001b[1;32mIn[5], line 6\u001b[0m\n\u001b[0;32m      4\u001b[0m html_content \u001b[38;5;241m=\u001b[39m fetch_html(url)\n\u001b[0;32m      5\u001b[0m tree \u001b[38;5;241m=\u001b[39m html\u001b[38;5;241m.\u001b[39mfromstring(html_content)\n\u001b[1;32m----> 6\u001b[0m node \u001b[38;5;241m=\u001b[39m \u001b[43mtree\u001b[49m\u001b[38;5;241;43m.\u001b[39;49m\u001b[43mxpath\u001b[49m\u001b[43m(\u001b[49m\u001b[38;5;124;43m\"\u001b[39;49m\u001b[38;5;124;43m/html/body/div[@id=\u001b[39;49m\u001b[38;5;124;43m'\u001b[39;49m\u001b[38;5;124;43mnews-detail\u001b[39;49m\u001b[38;5;124;43m'\u001b[39;49m\u001b[38;5;124;43m]/div[@class=\u001b[39;49m\u001b[38;5;124;43m'\u001b[39;49m\u001b[38;5;124;43mwrap\u001b[39;49m\u001b[38;5;124;43m'\u001b[39;49m\u001b[38;5;124;43m]/div[@class=\u001b[39;49m\u001b[38;5;124;43m'\u001b[39;49m\u001b[38;5;124;43mcontent-detail default\u001b[39;49m\u001b[38;5;124;43m'\u001b[39;49m\u001b[38;5;124;43m]/div[@class=\u001b[39;49m\u001b[38;5;124;43m'\u001b[39;49m\u001b[38;5;124;43mdetail css-content default\u001b[39;49m\u001b[38;5;124;43m'\u001b[39;49m\u001b[38;5;124;43m]\u001b[39;49m\u001b[38;5;124;43m\"\u001b[39;49m\u001b[43m)\u001b[49m\u001b[43m[\u001b[49m\u001b[38;5;241;43m0\u001b[39;49m\u001b[43m]\u001b[49m\n\u001b[0;32m      7\u001b[0m \u001b[38;5;28mprint\u001b[39m(node\u001b[38;5;241m.\u001b[39mtext_content())\n",
      "\u001b[1;31mIndexError\u001b[0m: list index out of range"
     ]
    }
   ],
   "source": [
    "from common.utils import *\n",
    "from lxml import html\n",
    "\n",
    "html_content = fetch_html(url)\n",
    "tree = html.fromstring(html_content)\n",
    "node = tree.xpath(\"/html/body/div[@id='news-detail']/div[@class='wrap']/div[@class='content-detail default']/div[@class='detail css-content default']\")[0]\n",
    "print(node.text_content())\n"
   ]
  },
  {
   "cell_type": "code",
   "execution_count": 5,
   "id": "8824d49ea3a5390d",
   "metadata": {
    "ExecuteTime": {
     "end_time": "2024-09-20T09:59:32.870587Z",
     "start_time": "2024-09-20T09:59:32.868377Z"
    },
    "collapsed": false
   },
   "outputs": [],
   "source": []
  }
 ],
 "metadata": {
  "kernelspec": {
   "display_name": ".venv",
   "language": "python",
   "name": "python3"
  },
  "language_info": {
   "codemirror_mode": {
    "name": "ipython",
    "version": 3
   },
   "file_extension": ".py",
   "mimetype": "text/x-python",
   "name": "python",
   "nbconvert_exporter": "python",
   "pygments_lexer": "ipython3",
   "version": "3.11.3"
  }
 },
 "nbformat": 4,
 "nbformat_minor": 5
}
